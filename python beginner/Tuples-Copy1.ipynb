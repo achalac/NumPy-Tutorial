{
 "cells": [
  {
   "cell_type": "code",
   "execution_count": null,
   "id": "ab72044a",
   "metadata": {},
   "outputs": [],
   "source": [
    "#Testing Tuples(02.11.2023)\n",
    "#Welcome message\n",
    "print(\"Please enter a short 3 word sentance and we will flip it backwards!\")\n",
    "#This is what is inputed into the tuple\n",
    "ui1 = input(\"Enter the first word: \")\n",
    "ui2 = input(\"Enter the second word: \")\n",
    "ui3 = input(\"Enter the third word: \")\n",
    "tuple1 = (ui1,ui2,ui3)\n",
    "#Prints you previous message and it reversed.\n",
    "print(\"Here is your original sentance:\", tuple1)\n",
    "tuple1 = tuple1[::-1]\n",
    "print(\"Now here it is backwards:\", tuple1)"
   ]
  },
  {
   "cell_type": "code",
   "execution_count": null,
   "id": "edcc950a",
   "metadata": {},
   "outputs": [],
   "source": [
    "#This program uses tuples to flip your 3 word sentance backwards"
   ]
  },
  {
   "cell_type": "code",
   "execution_count": null,
   "id": "f19a7bc7",
   "metadata": {},
   "outputs": [],
   "source": [
    "#Task with tuples(02.11.2023)\n",
    "tuple1 = (1,2)\n",
    "tuple2 = (10,20)\n",
    "tuple3 = ()\n",
    "def one(tuple1,tuple2,tuple3):\n",
    "    print(\"Before swap:\")\n",
    "    print(tuple1)\n",
    "    print(tuple2)\n",
    "    tuple3 = tuple1\n",
    "    tuple1 = tuple2\n",
    "    tuple2 = tuple3\n",
    "    print(\"After swap:\")\n",
    "    print(tuple1)\n",
    "    print(tuple2)\n",
    "\n",
    "def two(tuple1,tuple2):\n",
    "    print(\"Before swap:\")\n",
    "    print(tuple1)\n",
    "    print(tuple2)\n",
    "    tuple1,tuple2 = tuple2,tuple1\n",
    "    print(tuple1)\n",
    "    print(tuple2)\n",
    "\n",
    "print(\"My version:\")\n",
    "one(tuple1,tuple2,tuple3)\n",
    "print(\"Quicker and shorter version:\")\n",
    "two(tuple1,tuple2)"
   ]
  },
  {
   "cell_type": "code",
   "execution_count": null,
   "id": "f9bfb669",
   "metadata": {},
   "outputs": [],
   "source": [
    "#This program swaps two tuples with eachother with 2 methods"
   ]
  }
 ],
 "metadata": {
  "kernelspec": {
   "display_name": "Python 3 (ipykernel)",
   "language": "python",
   "name": "python3"
  },
  "language_info": {
   "codemirror_mode": {
    "name": "ipython",
    "version": 3
   },
   "file_extension": ".py",
   "mimetype": "text/x-python",
   "name": "python",
   "nbconvert_exporter": "python",
   "pygments_lexer": "ipython3",
   "version": "3.9.12"
  }
 },
 "nbformat": 4,
 "nbformat_minor": 5
}
