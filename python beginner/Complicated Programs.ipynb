{
 "cells": [
  {
   "cell_type": "code",
   "execution_count": null,
   "id": "5f687f27",
   "metadata": {},
   "outputs": [],
   "source": [
    "#Student Grade Tracker(05.20.2023)\n",
    "stugrades = {}\n",
    "def tracker(again):\n",
    "    if again == \"Yes\":\n",
    "        todo = input(\" 1. Add a new student's grades to the tracker\\n 2. Remove a student's grades from the tracker\\n 3. Update the grades of a student\\n 4. Calculate the average grade of a student\\n 5. Display the current grade tracker\\n\")\n",
    "        if todo == \"Add a new student's grades to the tracker\":\n",
    "            amount = int(input(\"How many grades do you wish to add?\\n\"))\n",
    "            for i in range(amount):\n",
    "                ui1 = input(\"What is the assignment's name?\\n\")\n",
    "                ui2 = int(input(f\"What is the grade for {ui1}?\\n\"))\n",
    "                print(\"________________________________________\")\n",
    "                stugrades[f\"{ui1}\"] = f\"{ui2}\"\n",
    "                print(f\"Here is {student} current grades: {stugrades}\")\n",
    "            again = input(\"Would you like to do something else?\\n\")\n",
    "            tracker(again)\n",
    "        elif todo == \"Remove a student's grades from the tracker\":\n",
    "            ui1 = input(\"What is the assignment's name?\\n\")\n",
    "            del stugrades[f\"{ui1}\"]\n",
    "            print(f\"{ui1} is now deleted...\")\n",
    "            again = input(\"Would you like to do something else?\\n\")\n",
    "            tracker(again)\n",
    "        elif todo == \"Update the grades of a student\":\n",
    "            ui1 = input(\"What is the assignment's name?\\n\")\n",
    "            ui2 = input(\"What do you want the new grade to be?\")\n",
    "            stugrades[f\"{ui1}\"] = f\"{ui2}\"\n",
    "            again = input(\"Would you like to do something else?\\n\")\n",
    "            tracker(again)\n",
    "        elif todo == \"Calculate the average grade of a student\":\n",
    "            for key in stugrades:\n",
    "                stugrades[key] = int(stugrades[key])\n",
    "            avg = sum(stugrades.values())\n",
    "            avg = avg/len(stugrades)\n",
    "            print(f\"{student}'s average grade is {avg}\")\n",
    "        elif todo == \"Display the current grade tracker\":\n",
    "            print(f\"Here is {student} current grades: {stugrades}\")\n",
    "        again = input(\"Would you like to do something else?\\n\")\n",
    "        tracker(again)\n",
    "    else:\n",
    "        print(\"Ok! Goodbye!\")\n",
    "        quit()\n",
    "\n",
    "\n",
    "student = input(\"What is your student's name?\\n\")\n",
    "amount = int(input(\"How many grades do you wish to add?\\n\"))\n",
    "for i in range(amount):\n",
    "    ui1 = input(\"What is the assignment's name?\\n\")\n",
    "    ui2 = input(f\"What is the grade for {ui1}?\\n\")\n",
    "    print(\"________________________________________\")\n",
    "    stugrades[f\"{ui1}\"] = f\"{ui2}\"\n",
    "    print(f\"Here is {student} current grades: {stugrades}\")\n",
    "again = input(\"Would you like to do something else?\\n\")\n",
    "tracker(again)"
   ]
  },
  {
   "cell_type": "code",
   "execution_count": null,
   "id": "b9f31e8b",
   "metadata": {},
   "outputs": [],
   "source": [
    "#This program can:"
   ]
  },
  {
   "cell_type": "code",
   "execution_count": null,
   "id": "79e6e336",
   "metadata": {},
   "outputs": [],
   "source": [
    "#1. Add a new student's grades to the tracker\n",
    "#2. Remove a student's grades from the tracker\n",
    "#3. Update the grades of a student\n",
    "#4. Calculate the average grade of a student\n",
    "#5. Display the current grade tracker"
   ]
  },
  {
   "cell_type": "code",
   "execution_count": null,
   "id": "8cba8d08",
   "metadata": {},
   "outputs": [],
   "source": [
    "#It does this all with most of the code in a function and everytime one part of the function completes, the function is called again to make the program seem infinite."
   ]
  },
  {
   "cell_type": "code",
   "execution_count": null,
   "id": "697f8eb3",
   "metadata": {},
   "outputs": [],
   "source": [
    "#Bookshop(05.14.2023)\n",
    "bookinv = dict()\n",
    "def agains(again):\n",
    "    if again == \"Yes\":\n",
    "        task = input(\"What would you like to do?\\n Add new books\\n Remove existing books\\n Update price of existing book\\n Search for book by author\\n\")\n",
    "        if task == \"Add new books\":\n",
    "            entries = int(input(\"How many entries do you want to add? \\n\"))\n",
    "            for i in range(entries):\n",
    "                ui1 = input(\"What is the title of the book: \")\n",
    "                ui2 = input(\"Who's the author: \")\n",
    "                ui3 = input(\"What's the price: \")\n",
    "                print(\"_____________________________\")\n",
    "                bookinv[f\"{ui1}\"] = f\"{ui3} : {ui2}\"\n",
    "                print(f\"Completed! Here is the updated book inv: {bookinv}\")\n",
    "            again = input(\"Would you like to do something else?\\n\")\n",
    "            agains(again)\n",
    "        elif task == \"Remove existing books\":\n",
    "            remove = input(\"What book would you like to remove?\\n\")\n",
    "            del bookinv[f\"{remove}\"]\n",
    "            print(f\"Completed! Here is the updated book inv: {bookinv}\")\n",
    "            again = input(\"Would you like to do something else?\\n\")\n",
    "            agains(again)\n",
    "        elif task == \"Update price of existing book\":\n",
    "            updatetitle = input(\"What's the title of the book you would like to update?\\n\")\n",
    "            updateaut = input(\"What's the author of the book?\\n\")\n",
    "            updateprice = input(\"What's the new price?\\n\")\n",
    "            bookinv[f\"{updatetitle}\"] = f\"{updateaut} : {updateprice}\"\n",
    "            print(f\"Completed! Here is the updated book inv: {bookinv}\")\n",
    "            again = input(\"Would you like to do something else?\\n\")\n",
    "            agains(again)\n",
    "        elif task == \"Search for book by author\":\n",
    "            author = input(\"What's the author's name?\\n\")\n",
    "            books = []\n",
    "            for book in bookinv:\n",
    "                if author in bookinv[book]:\n",
    "                    books.append(f\"{book} - ${bookinv[book].split(' : ')[0]}\")\n",
    "            if len(books) > 0:\n",
    "                print(f\"Here are the books available by {author}:\")\n",
    "                for book in books:\n",
    "                    print(book)\n",
    "            else:\n",
    "                print(f\"Sorry! Books by {author} is not yet at our bookshop!\")\n",
    "            again = input(\"Would you like to do something else?\\n\")\n",
    "            agains(again)\n",
    "    else:\n",
    "        print(\"Quitting\")\n",
    "        quit\n",
    "\n",
    "\n",
    "entries = int(input(\"How many entries do you want to add? \\n\"))\n",
    "for i in range(entries):\n",
    "    ui1 = input(\"What is the title of the book: \")\n",
    "    ui2 = input(\"Who's the author: \")\n",
    "    ui3 = input(\"What's the price: \")\n",
    "    print(\"_____________________________\")\n",
    "    bookinv[f\"{ui1}\"] = f\"{ui3} : {ui2}\"\n",
    "    print(f\"Completed! Here is the updated book inv: {bookinv}\")\n",
    "again = input(\"Would you like to do something else?\\n\")\n",
    "agains(again)\n"
   ]
  },
  {
   "cell_type": "code",
   "execution_count": 1,
   "id": "0f9b4774",
   "metadata": {},
   "outputs": [],
   "source": [
    "#This program can:"
   ]
  },
  {
   "cell_type": "code",
   "execution_count": null,
   "id": "a814519a",
   "metadata": {},
   "outputs": [],
   "source": [
    "#Add new books\n",
    "#Remove existing books\n",
    "#Update price of existing book\n",
    "#Search for book by author"
   ]
  },
  {
   "cell_type": "code",
   "execution_count": null,
   "id": "4a35f46d",
   "metadata": {},
   "outputs": [],
   "source": [
    "#With this program mostly in the function, it allows the user to look through the system to find a book instead of manually looking for it."
   ]
  }
 ],
 "metadata": {
  "kernelspec": {
   "display_name": "Python 3 (ipykernel)",
   "language": "python",
   "name": "python3"
  },
  "language_info": {
   "codemirror_mode": {
    "name": "ipython",
    "version": 3
   },
   "file_extension": ".py",
   "mimetype": "text/x-python",
   "name": "python",
   "nbconvert_exporter": "python",
   "pygments_lexer": "ipython3",
   "version": "3.9.12"
  }
 },
 "nbformat": 4,
 "nbformat_minor": 5
}
