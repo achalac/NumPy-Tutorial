{
 "cells": [
  {
   "cell_type": "code",
   "execution_count": null,
   "id": "6aac552d",
   "metadata": {},
   "outputs": [],
   "source": [
    "#Dictionary Maker\n",
    "print(\"Welcome to the Dictionary Maker!\")\n",
    "first = input(\"What would you like to add as the first word in the dictionary:\")\n",
    "first2 = input(f\"What is the meaning of: {first}:\")\n",
    "second = input(\"What would you like to add as the second word in the dictionary:\")\n",
    "second2 = input(f\"What is the meaning of: {second}:\")\n",
    "third = input(\"What would you like to add as the third word in the dictionary:\")\n",
    "third2 = input(f\"What is the meaning of: {third}:\")\n",
    "print(\"Congrats! You have now made a dictionary!\")\n",
    "\n",
    "creation = {\n",
    "    first : first2,\n",
    "    second : second2,\n",
    "    third : third2\n",
    "}\n",
    "\n",
    "for x in creation:\n",
    "    print(x)"
   ]
  },
  {
   "cell_type": "code",
   "execution_count": null,
   "id": "28beaf8a",
   "metadata": {},
   "outputs": [],
   "source": [
    "#This program creates a dictionary for you."
   ]
  },
  {
   "cell_type": "code",
   "execution_count": null,
   "id": "5a38b319",
   "metadata": {},
   "outputs": [],
   "source": [
    "os = input(\"If you were to buy a PC, what OS would it be:\")\n",
    "usage = input(\"What would you use it for:\")\n",
    "age = input(\"How old would it be:\")\n",
    "color = input(\"What color would it be:\")\n",
    "\n",
    "computer = {\n",
    "    \"os\" : os,\n",
    "    \"usage\" : usage,\n",
    "    \"age\" : age\n",
    "}\n",
    "\n",
    "x = computer.items()\n",
    "y = computer.values()\n",
    "z = computer.keys()\n",
    "e = computer.get(\"os\")\n",
    "f = computer.get(\"color\")\n",
    "print(x)\n",
    "print(y)\n",
    "print(z)\n",
    "print(e)\n",
    "print(\"printing \",color)\n",
    "#print(x)\n",
    "computer[\"color\"] = color\n",
    "#print(x)\n",
    "print(x)"
   ]
  },
  {
   "cell_type": "code",
   "execution_count": null,
   "id": "d1aeff1d",
   "metadata": {},
   "outputs": [],
   "source": [
    "#This is another form of dictionary where they use the key value pairs."
   ]
  }
 ],
 "metadata": {
  "kernelspec": {
   "display_name": "Python 3 (ipykernel)",
   "language": "python",
   "name": "python3"
  },
  "language_info": {
   "codemirror_mode": {
    "name": "ipython",
    "version": 3
   },
   "file_extension": ".py",
   "mimetype": "text/x-python",
   "name": "python",
   "nbconvert_exporter": "python",
   "pygments_lexer": "ipython3",
   "version": "3.9.12"
  }
 },
 "nbformat": 4,
 "nbformat_minor": 5
}
