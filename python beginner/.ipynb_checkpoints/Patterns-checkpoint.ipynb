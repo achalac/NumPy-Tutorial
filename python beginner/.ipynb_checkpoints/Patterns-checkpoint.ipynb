{
 "cells": [
  {
   "cell_type": "code",
   "execution_count": 1,
   "id": "7736aabc",
   "metadata": {},
   "outputs": [
    {
     "name": "stdout",
     "output_type": "stream",
     "text": [
      "Enter number of rows: 5\n",
      "* \n",
      "\n",
      "* * \n",
      "\n",
      "* * * \n",
      "\n",
      "* * * * \n",
      "\n",
      "* * * * * \n",
      "\n"
     ]
    }
   ],
   "source": [
    "rows = int(input(\"Enter number of rows: \"))\n",
    "for i in range(rows):  \n",
    "        for j in range(i+1):   \n",
    "            print(\"* \", end=\"\")         \n",
    "        print('\\n')"
   ]
  },
  {
   "cell_type": "code",
   "execution_count": 2,
   "id": "a30e1d92",
   "metadata": {},
   "outputs": [],
   "source": [
    "#Depending on the users desired amount of rows, it will print a start pattern like this (EXCULDING THE #):"
   ]
  },
  {
   "cell_type": "code",
   "execution_count": null,
   "id": "b80cff5d",
   "metadata": {},
   "outputs": [],
   "source": [
    "#* \n",
    "\n",
    "#* * \n",
    "\n",
    "#* * * \n",
    "\n",
    "#* * * * \n",
    "\n",
    "#* * * * * "
   ]
  },
  {
   "cell_type": "code",
   "execution_count": null,
   "id": "78ba3788",
   "metadata": {},
   "outputs": [],
   "source": [
    "rows = 5\n",
    "i = 1\n",
    "while i <= rows:\n",
    "    j = 1\n",
    "    while j <= i:\n",
    "        print(i*2-1, end=' ')\n",
    "        j += 1\n",
    "    i += 1\n",
    "    print('')\n"
   ]
  },
  {
   "cell_type": "code",
   "execution_count": 6,
   "id": "96996da1",
   "metadata": {},
   "outputs": [],
   "source": [
    "#Output:\n",
    "#1 \n",
    "#3 3 \n",
    "#5 5 5 \n",
    "#7 7 7 7 \n",
    "#9 9 9 9 9 "
   ]
  },
  {
   "cell_type": "code",
   "execution_count": null,
   "id": "c82fc6c3",
   "metadata": {},
   "outputs": [],
   "source": [
    "#The program outputs the pattern of an increasing pyramid dow"
   ]
  }
 ],
 "metadata": {
  "kernelspec": {
   "display_name": "Python 3 (ipykernel)",
   "language": "python",
   "name": "python3"
  },
  "language_info": {
   "codemirror_mode": {
    "name": "ipython",
    "version": 3
   },
   "file_extension": ".py",
   "mimetype": "text/x-python",
   "name": "python",
   "nbconvert_exporter": "python",
   "pygments_lexer": "ipython3",
   "version": "3.10.9"
  }
 },
 "nbformat": 4,
 "nbformat_minor": 5
}
