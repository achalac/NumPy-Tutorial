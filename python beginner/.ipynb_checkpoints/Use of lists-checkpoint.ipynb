{
 "cells": [
  {
   "cell_type": "code",
   "execution_count": null,
   "id": "2585cbf6",
   "metadata": {},
   "outputs": [
    {
     "name": "stdout",
     "output_type": "stream",
     "text": [
      "Welcome! With this program, you can do almost everything with lists!\n",
      "Now, we will start making the list \n",
      "\n"
     ]
    }
   ],
   "source": [
    "#All uses of lists\n",
    "def ios(list1): #Function to see if you input str or int\n",
    "    ui = input(\"Is this going to be a string or an integer? \\n\")\n",
    "    if ui == \"string\":\n",
    "        ui1 = input(\"What is the first item: \")\n",
    "        list1.append(ui1)\n",
    "        print(\"Applied!\")\n",
    "    else:\n",
    "        ui1 = int(input(\"What is the first item: \"))\n",
    "        list1.append(ui1)\n",
    "        print(\"Applied!\")\n",
    "\n",
    "list1 = [] #Start of the program\n",
    "print(\"Welcome! With this program, you can do almost everything with lists!\")\n",
    "print(\"Now, we will start making the list \\n\")\n",
    "#This reduces typing the same thing\n",
    "x=0\n",
    "while x != 3:\n",
    "    ios(list1)\n",
    "    x += 1\n",
    "#Asking what you would like to do\n",
    "choice = input(\"The list has been made! Would you like to, 1. print an item, 2. slice, 3. add an item, 4. change an item, 5. del an item, 6. print all items \\n\")\n",
    "#This is where you choose what you want to do\n",
    "if choice == 'print':\n",
    "    ask = int(input(\"Which item would you like to pick? 1, 2, or 3? \\n\"))\n",
    "    ask -= 1\n",
    "    print(list1[ask])\n",
    "    print(list1)\n",
    "elif choice == 'slice':\n",
    "    ask = int(input(\"What do you start with: \"))\n",
    "    ask1 = int(input(\"What do you end with: \"))\n",
    "    ask -= 1\n",
    "    ask1 -= 1\n",
    "    print(list1[ask:ask1])\n",
    "    print(list1)\n",
    "elif choice == 'add':\n",
    "    ios(list1)\n",
    "    print(list1)\n",
    "elif choice == 'change':\n",
    "    ask = int(input(\"Which item would you like to change? 1, 2, or 3? \\n\"))\n",
    "    ask -= 1\n",
    "    ask1 = input(\"What would you like to change it too? \\n\")\n",
    "    list1[ask] = ask1\n",
    "    print(list1)\n",
    "elif choice == 'delete':\n",
    "    ask = int(input(\"Which item would you like to delete? 1, 2, or 3? \\n\"))\n",
    "    ask -= 1\n",
    "    del list1[ask]\n",
    "    print(list1)\n",
    "else:\n",
    "    print(\"Printing all items:\")\n",
    "    for i in list1:\n",
    "        print(i)"
   ]
  },
  {
   "cell_type": "code",
   "execution_count": null,
   "id": "2cef8f17",
   "metadata": {},
   "outputs": [],
   "source": [
    "#This program supplies you with all uses of lists and what they can do."
   ]
  }
 ],
 "metadata": {
  "kernelspec": {
   "display_name": "Python 3 (ipykernel)",
   "language": "python",
   "name": "python3"
  },
  "language_info": {
   "codemirror_mode": {
    "name": "ipython",
    "version": 3
   },
   "file_extension": ".py",
   "mimetype": "text/x-python",
   "name": "python",
   "nbconvert_exporter": "python",
   "pygments_lexer": "ipython3",
   "version": "3.10.9"
  }
 },
 "nbformat": 4,
 "nbformat_minor": 5
}
