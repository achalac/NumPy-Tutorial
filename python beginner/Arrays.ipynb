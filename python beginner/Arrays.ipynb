{
 "cells": [
  {
   "cell_type": "code",
   "execution_count": null,
   "id": "9361c7b3",
   "metadata": {},
   "outputs": [],
   "source": [
    "#Examples of Arrays\n",
    "#This part welcomes you to the \"array\" maker and then it asks you what you want to add\n",
    "print(\"Welcome to the Array maker! You can add 3 custom things to an array and do many things with it!\")\n",
    "ui = input(\"What is the first thing you want to add:\")\n",
    "ui2 = input(\"What is the second thing you want to add:\")\n",
    "ui3 = input(\"What is the third thing you want to add:\")\n",
    "custom = [ui, ui2, ui3]\n",
    "print(\"Items in the array:\", ui,ui2,ui3)\n",
    "#This is where the user gets to decide what he wants to do with the array\n",
    "ui4 = input(\"What would you like to do with the array? Add a new item, remove an item, copy into another array, reverse, sort, or clear:\")\n",
    "#Add Choice\n",
    "if ui4 == 'add':\n",
    "    add = input(\"What would you like to add:\")\n",
    "    custom.append(add)\n",
    "    print(\"Now added!\")\n",
    "    for x in custom:\n",
    "        print(x)\n",
    "#Remove choice\n",
    "elif ui4 == 'remove':\n",
    "    remove = input(\"What do you want to remove:\")\n",
    "    custom.remove(remove)\n",
    "    print('Now Removed!')\n",
    "    for x in custom:\n",
    "        print(x)\n",
    "#Copy Choice\n",
    "elif ui4 == 'copy':\n",
    "    print(\"Copying into another list...\")\n",
    "    x=custom.copy\n",
    "    print(\"Copy:\", x)\n",
    "    print(\"OG\", custom)\n",
    "#Reverse Choice\n",
    "elif ui4 == 'reverse':\n",
    "    print(\"Your array reversed is:\", custom.reverse())\n",
    "#Sort Choice\n",
    "elif ui4 == 'sort':\n",
    "    print(\"Your array sorted:\", custom.sort)\n",
    "#Clear Choice\n",
    "elif ui4 == 'clear':\n",
    "    print(\"Cleared...\")\n",
    "#Message if user inputs a choice that is not avaliable to them\n",
    "else:\n",
    "    print(\"That is not one of the options...\")\n",
    "#By Risith Kankanamge"
   ]
  },
  {
   "cell_type": "code",
   "execution_count": null,
   "id": "1b7ccf65",
   "metadata": {},
   "outputs": [],
   "source": [
    "#This program shows the uses of arrays and what you can do with them."
   ]
  }
 ],
 "metadata": {
  "kernelspec": {
   "display_name": "Python 3 (ipykernel)",
   "language": "python",
   "name": "python3"
  },
  "language_info": {
   "codemirror_mode": {
    "name": "ipython",
    "version": 3
   },
   "file_extension": ".py",
   "mimetype": "text/x-python",
   "name": "python",
   "nbconvert_exporter": "python",
   "pygments_lexer": "ipython3",
   "version": "3.9.12"
  }
 },
 "nbformat": 4,
 "nbformat_minor": 5
}
