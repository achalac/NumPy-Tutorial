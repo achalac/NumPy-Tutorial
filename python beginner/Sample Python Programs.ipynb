{
 "cells": [
  {
   "cell_type": "code",
   "execution_count": null,
   "id": "afea2217",
   "metadata": {},
   "outputs": [],
   "source": [
    "#The program gets the grades for each class which is 5 classes so it adds up all your grades together and divides by 5 to give you the average"
   ]
  },
  {
   "cell_type": "code",
   "execution_count": null,
   "id": "8575ce30",
   "metadata": {},
   "outputs": [],
   "source": [
    "name = input('Enter your name:')\n",
    "age = input('Enter your age:')\n",
    "school = input('Enter your school:')\n",
    "math = float(input('Enter your grade for Math:'))\n",
    "history = float(input('Enter your grade for History:'))\n",
    "english = float(input('Enter your grade for English:'))\n",
    "science = float(input('Enter your grade for Science:'))\n",
    "music = float(input('Enter your grade for Music:'))\n",
    "average = ((math + history + english + science + music) / 5)\n",
    "print('Your name is', name)\n",
    "print('Your age is', age)\n",
    "print('Your school is', school)\n",
    "print('Your average in all your subjects is', average)"
   ]
  },
  {
   "cell_type": "code",
   "execution_count": null,
   "id": "fddcdb32",
   "metadata": {},
   "outputs": [],
   "source": [
    "#In this program, it takes 2 integers and tries to find the average, but if the user enters a nonint, the program will print out a custom error message for them."
   ]
  },
  {
   "cell_type": "code",
   "execution_count": null,
   "id": "3006fdd6",
   "metadata": {},
   "outputs": [],
   "source": [
    "n = input('Please enter an integer: ')\n",
    "m = input('Please enter a second integer: ')\n",
    "try:\n",
    "    n = int(n)\n",
    "    m = int(m)\n",
    "    average = ((n + m) / 2)\n",
    "    print(average)\n",
    "except ValueError:\n",
    "    print('You have to enter an actual integer! Please try again')"
   ]
  },
  {
   "cell_type": "code",
   "execution_count": null,
   "id": "f6c53486",
   "metadata": {},
   "outputs": [],
   "source": [
    "#This program calculates the average for your grades. Depending on your grade average, you get a certain message and you also get your grade average."
   ]
  },
  {
   "cell_type": "code",
   "execution_count": null,
   "id": "cc990447",
   "metadata": {},
   "outputs": [],
   "source": [
    "pd1 = float(input('Please enter your grade for period 1:'))\n",
    "pd2 = float(input('Please enter your grade for period 2:'))\n",
    "pd3 = float(input('Please enter your grade for period 3:'))\n",
    "pd4 = float(input('Please enter your grade for period 4:'))\n",
    "pd5 = float(input('Please enter your grade for period 5:'))\n",
    "pd6 = float(input('Please enter your grade for period 6:'))\n",
    "\n",
    "average = ((pd1 + pd2 + pd3 + pd4 + pd5 + pd6)/6)\n",
    "\n",
    "if average >= 93:\n",
    "    print('Exceptional result!')\n",
    "elif average >= 50:\n",
    "    print('Satisfactory result!')\n",
    "else:\n",
    "    print('You have failed')\n",
    "\n",
    "print ('Your score was', average)"
   ]
  },
  {
   "cell_type": "code",
   "execution_count": null,
   "id": "c0bc6a6e",
   "metadata": {},
   "outputs": [],
   "source": [
    "#This program converts celsius to fahrenheit"
   ]
  },
  {
   "cell_type": "code",
   "execution_count": null,
   "id": "993d93a0",
   "metadata": {},
   "outputs": [],
   "source": [
    "def celsiustofahrenheit(a):\n",
    "    return(a*9/5)+32\n",
    "    \n",
    "celsius = int(input('Please enter a number:'))\n",
    "print(celsius, 'celsius is',celsiustofahrenheit(celsius), 'fahrenheit')"
   ]
  },
  {
   "cell_type": "code",
   "execution_count": 1,
   "id": "71446a94",
   "metadata": {},
   "outputs": [],
   "source": [
    "#This program gives you the factorial of a number you input. It includes a if elif else statment to catch any wrong inputs to notify the user."
   ]
  },
  {
   "cell_type": "code",
   "execution_count": null,
   "id": "c12d6b7f",
   "metadata": {},
   "outputs": [],
   "source": [
    "# Factorial of a number using recursion\n",
    "\n",
    "def recur_factorial(n):\n",
    "   if n == 1:\n",
    "       return n\n",
    "   else:\n",
    "       return n*recur_factorial(n-1)\n",
    "\n",
    "num = int(input(\"Please enter a random number:\"))\n",
    "\n",
    "# check if the number is negative\n",
    "if num < 0:\n",
    "    print(\"Sorry, factorial does not exist for negative numbers\")\n",
    "elif num == 0:\n",
    "    print(\"The factorial of 0 is 1\")\n",
    "else:\n",
    "    print(\"The factorial of\", num, \"is\", recur_factorial(num))"
   ]
  },
  {
   "cell_type": "code",
   "execution_count": null,
   "id": "a9622be3",
   "metadata": {},
   "outputs": [],
   "source": []
  }
 ],
 "metadata": {
  "kernelspec": {
   "display_name": "Python 3 (ipykernel)",
   "language": "python",
   "name": "python3"
  },
  "language_info": {
   "codemirror_mode": {
    "name": "ipython",
    "version": 3
   },
   "file_extension": ".py",
   "mimetype": "text/x-python",
   "name": "python",
   "nbconvert_exporter": "python",
   "pygments_lexer": "ipython3",
   "version": "3.10.9"
  }
 },
 "nbformat": 4,
 "nbformat_minor": 5
}
